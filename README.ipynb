{
  "nbformat": 4,
  "nbformat_minor": 0,
  "metadata": {
    "colab": {
      "provenance": [],
      "authorship_tag": "ABX9TyO/4t2v7aXV/6Eo70jEu5k5",
      "include_colab_link": true
    },
    "kernelspec": {
      "name": "python3",
      "display_name": "Python 3"
    },
    "language_info": {
      "name": "python"
    }
  },
  "cells": [
    {
      "cell_type": "markdown",
      "metadata": {
        "id": "view-in-github",
        "colab_type": "text"
      },
      "source": [
        "<a href=\"https://colab.research.google.com/github/michaeljmcardoso/Portfolio_de_Projetos_Python/blob/main/README.ipynb\" target=\"_parent\"><img src=\"https://colab.research.google.com/assets/colab-badge.svg\" alt=\"Open In Colab\"/></a>"
      ]
    },
    {
      "cell_type": "markdown",
      "source": [
        "# SISREQ - Sistema de Regularização Quilombola\n",
        "\n",
        "<p>\n",
        " O programa em questão é um sistema de gerenciamento de registros para a regularização quilombola. Ele utiliza as bibliotecas Sqlite3 para criar e manipular um banco de dados SQLite, Pandas para manipulação de dados e exportação para planilha, Matplotib e Seaborn para gerar visualizações gráficas, e PySimpleGUI para criar a janela. Basicamente, a interface gráfica permite ao usuário inserir novos registros, consultar registros existentes, pesquisar registros por nome de comunidade, alterar registros selecionados e extrair os registros para uma planilha Excel. No geral, o SISREQ é um sistema versátil que permite o gerenciamento eficiente de processos, facilitando o acesso às informações, a geração de relatórios e a tomada de decisões com base em dados atualizados e organizados. A lógica do programa é focada em fornecer uma solução completa para o controle e acompanhamento de processos de forma eficaz e simplificada.\n",
        "</p>\n",
        "\n",
        "## Step by step\n",
        "\n",
        "<p>\n",
        "  Para concepção do programa utilizamos as seguintes bibliotecas:\n",
        "\n",
        "   - `sqlite3` para manipulação do banco de dados SQLite.\n",
        "   - `PySimpleGUI` para criar a interface gráfica.\n",
        "   - `pandas` para manipulação de dados e exportação para planilha.\n",
        "   - `Seaborn` e `Matplotlib` para criar e plotar as visualizações gráficas.\n",
        "</p>\n",
        "  \n",
        "<p>\n",
        "  Primeiro passo é criar ou conectar-se a um banco de dados SQLite chamado \"sisreq.db\" e obter um cursor para executar comandos SQL.\n",
        "  \n",
        "  Em seguida criamos a tabela \"sisreq\", caso ela não exista no banco de dados. A tabela possui as seguintes colunas:\n",
        "  \n",
        "  **ID,\n",
        "    Numero TEXT,\n",
        "    Data_Abertura DATE,\n",
        "    Comunidade TEXT,\n",
        "    Municipio TEXT,\n",
        "    Area_ha NUMERIC,\n",
        "    Num_familias NUMERIC,\n",
        "    Fase_Processo TEXT,\n",
        "    Etapa_RTID TEXT,\n",
        "    Edital_DOU TEXT,\n",
        "    Edital_DOE TEXT,\n",
        "    Portaria_DOU DATE,\n",
        "    Decreto_DOU DATE,\n",
        "    Titulo TEXT,\n",
        "    PNRA TEXT,\n",
        "    Relatorio_Antropologico TEXT,\n",
        "    Latitude NUMERIC,\n",
        "    Longitude NUMERIC,\n",
        "    Certidao_FCP TEXT,\n",
        "    Data_Certificacao DATE,\n",
        "    Sobreposicao TEXT,\n",
        "    Analise_de_Sobreposicao TEXT,\n",
        "    Acao_Civil_Publica TEXT,\n",
        "    Data_Decisao DATE,\n",
        "    Teor_Decisao_Prazo_Sentença TEXT,\n",
        "    Outras_Informacoes TEXT.**\n",
        "  \n",
        "  O passso seguinte é a definação das opções para os campos **Sobreposição, Etapa_RTID, Fase_Processo, Certidao_FCP, Acao_Civil_Publica e Relatório Antropológico.**\n",
        "\n",
        "  Definimos o tema da janela utilizando o PySimpleGUI e layout da janela principal. A janela possui campos de entrada para os dados do registro, botões para inserir, consultar e extrair planilha, uma tabela para exibir os registros e um botão para alterar um registro selecionado.\n",
        "\n",
        " Para alguns botões, foi aplicado uma cor diferente como um atributo pre-atentivo, dando algum destaque para a função.\n",
        "  \n",
        "  Criada a janela com o layout definido, damos continuidade construindo as funções para inserir dados, consultar registros, pesquisar por nome da comunidade, extrair planilha, alterar um registro dentre outras funções para consulta e exibição de gráficos. Dentro da segunda janela de consulta da definimos outra função para extrair um extrato de um único registro.\n",
        "  No Loop principal para capturar eventos da janela, quando um evento ocorre (por exemplo, clique em um botão), a função correspondente é chamada.\n",
        "  Finalmente, fechamos a conexão com o banco de dados e encerramos o programa.\n",
        "</p>\n",
        "\n",
        "## Descrição da lógica do programa\n",
        "\n",
        "<p>\n",
        "  O programa SISREQ (Sistema de Regularização Quilombola) é um sistema de gerenciamento de processos, projetado para auxiliar em demandas que requerem análise, acompanhamento e controle de informações. Vejamos a seguir, uma descrição da lógica do programa SISREQ:\n",
        "\n",
        "1. **Cadastro de Processos:** O SISREQ permite cadastrar processos com informações relevantes, como número do processo, município, fase do processo, data de entrada, entre outros campos essenciais.\n",
        "\n",
        "2. **Banco de Dados:** O programa possui um banco de dados onde todos os registros de processos são armazenados. Isso permite que as informações sejam consultadas, atualizadas e recuperadas de forma eficiente.\n",
        "\n",
        "3. **Consultas e Filtros:** O sistema permite realizar consultas e filtrar os processos com base em diferentes critérios. Por exemplo, é possível buscar processos por número, município, fase, data, entre outros atributos.\n",
        "\n",
        "4. **Relatórios e Gráficos:** O SISREQ possui funcionalidades para gerar relatórios e gráficos com base nos dados armazenados. Isso possibilita a análise e visualização de informações relevantes, como a quantidade de processos por município, a distribuição dos processos por fase, entre outros.\n",
        "\n",
        "5. **Atualização e Alteração de Dados:** O programa permite atualizar as informações dos processos, como alterar a fase, atualizar datas ou fazer anotações adicionais. Isso garante que as informações estejam sempre atualizadas e precisas.\n",
        "\n",
        "6. **Controle de Acesso:** Futuramente podem ser implementados recursos de controle de acesso para garantir que apenas usuários autorizados tenham permissão para visualizar, inserir ou alterar determinados dados.\n",
        "\n",
        "7. **Interface Amigável:** O SISREQ possui uma interface gráfica amigável, permitindo que os usuários interajam com o sistema de forma intuitiva, facilitando o cadastro e consulta de informações.\n",
        "\n",
        "8. **Backup e Segurança:** Outro aspecto pensado e ainda não efetivado, será a implementação de recursos de backup, para evitar perda de dados em caso de falhas ou problemas técnicos. Além disso, poderá haver medidas de segurança para proteger informações sensíveis.\n",
        "\n",
        "9. **Recursos Avançados:** No futuro, dependendo da complexidade do sistema, poderão ser implementados recursos avançados, como notificações automáticas, integração com outros sistemas, entre outros.\n",
        "\n",
        "Em resumo, o SISREQ é um sistema versátil que permite o gerenciamento eficiente de processos, facilitando o acesso às informações, a geração de relatórios e a tomada de decisões com base em dados atualizados e organizados. A lógica do programa é focada em fornecer uma solução completa para o controle e acompanhamento de processos de forma eficaz e simplificada.\n",
        "</p>\n"
      ],
      "metadata": {
        "id": "d-eGD19IREfx"
      }
    }
  ]
}