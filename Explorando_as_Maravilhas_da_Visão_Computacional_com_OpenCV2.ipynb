{
  "nbformat": 4,
  "nbformat_minor": 0,
  "metadata": {
    "colab": {
      "provenance": [],
      "authorship_tag": "ABX9TyPb910tAbmVQU4UhRk/hMcO",
      "include_colab_link": true
    },
    "kernelspec": {
      "name": "python3",
      "display_name": "Python 3"
    },
    "language_info": {
      "name": "python"
    }
  },
  "cells": [
    {
      "cell_type": "markdown",
      "metadata": {
        "id": "view-in-github",
        "colab_type": "text"
      },
      "source": [
        "<a href=\"https://colab.research.google.com/github/michaeljmcardoso/Portfolio_de_Projetos_Python/blob/main/Explorando_as_Maravilhas_da_Vis%C3%A3o_Computacional_com_OpenCV2.ipynb\" target=\"_parent\"><img src=\"https://colab.research.google.com/assets/colab-badge.svg\" alt=\"Open In Colab\"/></a>"
      ]
    },
    {
      "cell_type": "markdown",
      "source": [
        "# Explorando as Maravilhas da Visão Computacional com OpenCV\n",
        "\n",
        "A visão computacional é uma área fascinante que permite que as máquinas interpretem e compreendam visualmente o mundo ao seu redor. Uma ferramenta essencial nesta jornada é o OpenCV, uma biblioteca de código aberto que oferece uma ampla gama de funcionalidades para o processamento de imagens e vídeos. Neste artigo, vamos mergulhar nas maravilhas do OpenCV, explorando desde sua instalação até exemplos práticos de uso.\n",
        "\n",
        "##Instalando o OpenCV\n",
        "\n",
        "Antes de começarmos a explorar as funcionalidades do OpenCV, é necessário instalá-lo. Para usuários de Python, a instalação é simples, utilizando o pip:\n"
      ],
      "metadata": {
        "id": "exaVsJyjnihj"
      }
    },
    {
      "cell_type": "code",
      "execution_count": 3,
      "metadata": {
        "colab": {
          "base_uri": "https://localhost:8080/"
        },
        "id": "sU5D4hTwnXWR",
        "outputId": "3865d365-56df-4771-cd1e-799ae8dda114"
      },
      "outputs": [
        {
          "output_type": "stream",
          "name": "stdout",
          "text": [
            "Requirement already satisfied: opencv-python in /usr/local/lib/python3.10/dist-packages (4.8.0.76)\n",
            "Requirement already satisfied: numpy>=1.21.2 in /usr/local/lib/python3.10/dist-packages (from opencv-python) (1.23.5)\n"
          ]
        }
      ],
      "source": [
        "pip install opencv-python\n"
      ]
    },
    {
      "cell_type": "markdown",
      "source": [
        "Certifique-se de ter as dependências apropriadas instaladas no seu sistema, pois isso garantirá um funcionamento suave.\n",
        "\n",
        "##Conceitos Básicos\n",
        "\n",
        "#Representação de Imagens e Vídeos\n",
        "\n",
        "No OpenCV, as imagens são representadas como arrays NumPy, oferecendo uma estrutura familiar e poderosa para o processamento de dados. Além disso, o OpenCV suporta o processamento de vídeos, permitindo a captura, processamento e salvamento de vídeos de maneira eficiente."
      ],
      "metadata": {
        "id": "IatiKJKloNad"
      }
    },
    {
      "cell_type": "code",
      "source": [
        "import cv2\n",
        "\n",
        "# Carregar uma imagem\n",
        "imagem = cv2.imread('imagem.jpg')\n",
        "\n",
        "# Exibir a imagem\n",
        "cv2.imshow('Minha Imagem', imagem)\n",
        "cv2.waitKey(0)\n",
        "cv2.destroyAllWindows()\n"
      ],
      "metadata": {
        "id": "CJEdN5A4okmT"
      },
      "execution_count": null,
      "outputs": []
    },
    {
      "cell_type": "markdown",
      "source": [
        "Processamento de Imagens\n",
        "O OpenCV fornece uma variedade de funções para o processamento de imagens, incluindo conversões de cor, aplicação de filtros, transformações geométricas e detecção de bordas. Vamos dar uma olhada em alguns exemplos simples:"
      ],
      "metadata": {
        "id": "rxXbRyTYo1KJ"
      }
    },
    {
      "cell_type": "code",
      "source": [
        "import cv2\n",
        "import numpy as np\n",
        "\n",
        "# Converter uma imagem para escala de cinza\n",
        "imagem_cinza = cv2.cvtColor(imagem, cv2.COLOR_BGR2GRAY)\n",
        "\n",
        "# Aplicar um filtro de desfoque\n",
        "imagem_desfocada = cv2.GaussianBlur(imagem, (5, 5), 0)\n",
        "\n",
        "# Detectar bordas na imagem\n",
        "bordas = cv2.Canny(imagem_cinza, 50, 150)\n",
        "\n",
        "# Exibir as imagens processadas\n",
        "cv2.imshow('Imagem em Escala de Cinza', imagem_cinza)\n",
        "cv2.imshow('Imagem Desfocada', imagem_desfocada)\n",
        "cv2.imshow('Bordas Detectadas', bordas)\n",
        "cv2.waitKey(0)\n",
        "cv2.destroyAllWindows()\n"
      ],
      "metadata": {
        "id": "47T3nieio8SA"
      },
      "execution_count": null,
      "outputs": []
    },
    {
      "cell_type": "markdown",
      "source": [
        "# Detecção de Objetos\n",
        "\n",
        "## Um dos pontos fortes do OpenCV é sua capacidade de detecção de objetos em imagens e vídeos. Utilizando classificadores em cascata, como o Haar Cascade, podemos detectar objetos específicos, como rostos, em uma imagem."
      ],
      "metadata": {
        "id": "pfEXHoqpo_fJ"
      }
    },
    {
      "cell_type": "code",
      "source": [
        "import cv2\n",
        "\n",
        "# Carregar o classificador em cascata pré-treinado para rostos\n",
        "classificador_rosto = cv2.CascadeClassifier('haarcascade_frontalface_default.xml')\n",
        "\n",
        "# Carregar a imagem\n",
        "imagem = cv2.imread('pessoas.jpg')\n",
        "\n",
        "# Converter a imagem para escala de cinza\n",
        "imagem_cinza = cv2.cvtColor(imagem, cv2.COLOR_BGR2GRAY)\n",
        "\n",
        "# Detectar rostos na imagem\n",
        "rostos = classificador_rosto.detectMultiScale(imagem_cinza, scaleFactor=1.1, minNeighbors=5, minSize=(30, 30))\n",
        "\n",
        "# Desenhar retângulos ao redor dos rostos detectados\n",
        "for (x, y, w, h) in rostos:\n",
        "    cv2.rectangle(imagem, (x, y), (x+w, y+h), (0, 255, 0), 2)\n",
        "\n",
        "# Exibir a imagem com os rostos destacados\n",
        "cv2.imshow('Detecção de Rostos', imagem)\n",
        "cv2.waitKey(0)\n",
        "cv2.destroyAllWindows()\n"
      ],
      "metadata": {
        "id": "9uO9hP4npHSM"
      },
      "execution_count": null,
      "outputs": []
    },
    {
      "cell_type": "markdown",
      "source": [
        "# Conclusão\n",
        "\n",
        "O OpenCV é uma ferramenta poderosa que abre as portas da visão computacional para desenvolvedores e entusiastas. Neste artigo, exploramos desde a instalação até exemplos práticos de processamento de imagens e detecção de objetos. Continue explorando a documentação oficial e experimentando diferentes técnicas para desbloquear todo o potencial do OpenCV em seus projetos de visão computacional. Que esta jornada visual o inspire a criar soluções inovadoras e impactantes!"
      ],
      "metadata": {
        "id": "OjpNsrKtpM3i"
      }
    }
  ]
}